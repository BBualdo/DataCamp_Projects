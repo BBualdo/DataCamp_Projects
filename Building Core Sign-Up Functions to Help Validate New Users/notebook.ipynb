{
 "cells": [
  {
   "source": "![login_img](login_img.jpg)\n",
   "metadata": {},
   "id": "cad7ef7c-554e-4871-a178-fbbbae7b2f7b",
   "cell_type": "markdown"
  },
  {
   "source": "You recently joined a small startup as a junior developer. The product managers have come to you for help improving new user sign-ups for the company's flagship mobile app.\n\nThere are lots of invalid and incomplete sign-up attempts crashing the app. Before creating new accounts, you suggest standardizing validation checks by writing reusable Python functions to validate names, emails, passwords, etc. The managers love this idea and task you with coding core validation functions for improving sign-ups. It's your job to write these custom functions to check all user inputs to ensure they meet minimum criteria before account creation to reduce crashes.",
   "metadata": {},
   "id": "4a8145cb-8f2c-4133-b8d7-462b5310c6ea",
   "cell_type": "markdown"
  },
  {
   "source": "# Re-run this cell\n# Preloaded data for validating email domain.\ntop_level_domains = [\n    \".org\",\n    \".net\",\n    \".edu\",\n    \".ac\",\n    \".gov\",\n    \".com\",\n    \".io\"\n]",
   "metadata": {
    "executionCancelledAt": null,
    "executionTime": 13,
    "lastExecutedAt": 1706528163923,
    "lastScheduledRunId": null,
    "lastSuccessfullyExecutedCode": "# Re-run this cell\n# Preloaded data for validating email domain.\ntop_level_domains = [\n    \".org\",\n    \".net\",\n    \".edu\",\n    \".ac\",\n    \"co.uk\",\n    \".com\"\n]",
    "ExecuteTime": {
     "end_time": "2025-05-22T15:12:49.335536Z",
     "start_time": "2025-05-22T15:12:49.332315Z"
    }
   },
   "id": "37988e6b-da88-4ca4-846c-06d7f8e7d740",
   "cell_type": "code",
   "outputs": [],
   "execution_count": 24
  },
  {
   "source": [
    "def validate_name(name:str) -> bool:\n",
    "    \"\"\"\n",
    "    Checks if the provided name is valid\n",
    "\n",
    "    :param name: str - Provided name\n",
    "    :return: bool - Result if name is valid or not\n",
    "    \"\"\"\n",
    "    if type(name) is not str:\n",
    "        return False\n",
    "\n",
    "    if len(name) < 3:\n",
    "        return False\n",
    "\n",
    "    return True"
   ],
   "metadata": {
    "executionCancelledAt": null,
    "executionTime": 48,
    "lastExecutedAt": 1706528116152,
    "lastScheduledRunId": null,
    "lastSuccessfullyExecutedCode": "# Start coding here. Use as many cells as you need.",
    "ExecuteTime": {
     "end_time": "2025-05-22T15:12:49.350632Z",
     "start_time": "2025-05-22T15:12:49.347347Z"
    }
   },
   "id": "178a7c62-d560-467e-8b64-c434db4eb255",
   "cell_type": "code",
   "outputs": [],
   "execution_count": 25
  },
  {
   "metadata": {
    "ExecuteTime": {
     "end_time": "2025-05-22T15:12:49.366312Z",
     "start_time": "2025-05-22T15:12:49.362927Z"
    }
   },
   "cell_type": "code",
   "source": [
    "def validate_email(email:str) -> bool:\n",
    "    \"\"\"\n",
    "    Checks if the provided email is valid\n",
    "\n",
    "    :param email: str - Provided email\n",
    "    :return: bool - Result if email is valid or not\n",
    "    \"\"\"\n",
    "    if '@' not in email:\n",
    "        return False\n",
    "\n",
    "    tld_count = 0\n",
    "    for tld in top_level_domains:\n",
    "        if tld not in email:\n",
    "            tld_count += 1\n",
    "        else:\n",
    "            break\n",
    "\n",
    "    if tld_count == len(top_level_domains):\n",
    "        return False\n",
    "\n",
    "    return True"
   ],
   "id": "52351973df9d4182",
   "outputs": [],
   "execution_count": 26
  },
  {
   "metadata": {
    "ExecuteTime": {
     "end_time": "2025-05-22T15:13:35.195770Z",
     "start_time": "2025-05-22T15:13:35.190403Z"
    }
   },
   "cell_type": "code",
   "source": [
    "# Testing functions\n",
    "\n",
    "names = [\"Test\", \"B\", 12576, \"\"]\n",
    "emails = [\"test@test.org\", \"test.org\", \"@\", \"test@gmail.net\"]\n",
    "\n",
    "for name in names:\n",
    "    print(name, '=', str(validate_name(name)))\n",
    "\n",
    "print(\"\\n\")\n",
    "\n",
    "for email in emails:\n",
    "    print(email, '=', str(validate_email(email)))"
   ],
   "id": "91f3ef66bb4c1dd4",
   "outputs": [
    {
     "name": "stdout",
     "output_type": "stream",
     "text": [
      "Test = True\n",
      "B = False\n",
      "12576 = False\n",
      " = False\n",
      "\n",
      "\n",
      "test@test.org = True\n",
      "test.org = False\n",
      "@ = False\n",
      "test@gmail.net = True\n"
     ]
    }
   ],
   "execution_count": 29
  }
 ],
 "metadata": {
  "colab": {
   "name": "Welcome to DataCamp Workspaces.ipynb",
   "provenance": []
  },
  "kernelspec": {
   "display_name": "Python 3 (ipykernel)",
   "language": "python",
   "name": "python3"
  },
  "language_info": {
   "codemirror_mode": {
    "name": "ipython",
    "version": 3
   },
   "file_extension": ".py",
   "mimetype": "text/x-python",
   "name": "python",
   "nbconvert_exporter": "python",
   "pygments_lexer": "ipython3",
   "version": "3.8.10"
  }
 },
 "nbformat": 4,
 "nbformat_minor": 5
}
